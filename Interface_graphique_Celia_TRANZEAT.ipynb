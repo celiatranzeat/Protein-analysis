{
 "cells": [
  {
   "cell_type": "code",
   "execution_count": null,
   "id": "9c444570-db3a-4613-8bde-830e6fc25be4",
   "metadata": {},
   "outputs": [],
   "source": [
    "####INSTALLATION DES MODULES ####"
   ]
  },
  {
   "cell_type": "code",
   "execution_count": 1,
   "id": "4a970313-3c5a-4fcb-9132-bb6556fb0811",
   "metadata": {
    "collapsed": true,
    "jupyter": {
     "outputs_hidden": true
    },
    "scrolled": true
   },
   "outputs": [
    {
     "name": "stdout",
     "output_type": "stream",
     "text": [
      "Requirement already satisfied: Bio in c:\\users\\celia\\anaconda3\\lib\\site-packages (1.8.0)\n",
      "Requirement already satisfied: biopython>=1.80 in c:\\users\\celia\\anaconda3\\lib\\site-packages (from Bio) (1.85)\n",
      "Requirement already satisfied: gprofiler-official in c:\\users\\celia\\anaconda3\\lib\\site-packages (from Bio) (1.0.0)\n",
      "Requirement already satisfied: mygene in c:\\users\\celia\\anaconda3\\lib\\site-packages (from Bio) (3.2.2)\n",
      "Requirement already satisfied: pandas in c:\\users\\celia\\anaconda3\\lib\\site-packages (from Bio) (2.2.3)\n",
      "Requirement already satisfied: pooch in c:\\users\\celia\\anaconda3\\lib\\site-packages (from Bio) (1.8.2)\n",
      "Requirement already satisfied: requests in c:\\users\\celia\\anaconda3\\lib\\site-packages (from Bio) (2.32.3)\n",
      "Requirement already satisfied: tqdm in c:\\users\\celia\\anaconda3\\lib\\site-packages (from Bio) (4.67.1)\n",
      "Requirement already satisfied: numpy in c:\\users\\celia\\anaconda3\\lib\\site-packages (from biopython>=1.80->Bio) (2.1.3)\n",
      "Requirement already satisfied: biothings-client>=0.2.6 in c:\\users\\celia\\anaconda3\\lib\\site-packages (from mygene->Bio) (0.4.1)\n",
      "Requirement already satisfied: httpx>=0.22.0 in c:\\users\\celia\\anaconda3\\lib\\site-packages (from biothings-client>=0.2.6->mygene->Bio) (0.28.1)\n",
      "Requirement already satisfied: anyio in c:\\users\\celia\\anaconda3\\lib\\site-packages (from httpx>=0.22.0->biothings-client>=0.2.6->mygene->Bio) (4.7.0)\n",
      "Requirement already satisfied: certifi in c:\\users\\celia\\anaconda3\\lib\\site-packages (from httpx>=0.22.0->biothings-client>=0.2.6->mygene->Bio) (2025.10.5)\n",
      "Requirement already satisfied: httpcore==1.* in c:\\users\\celia\\anaconda3\\lib\\site-packages (from httpx>=0.22.0->biothings-client>=0.2.6->mygene->Bio) (1.0.9)\n",
      "Requirement already satisfied: idna in c:\\users\\celia\\anaconda3\\lib\\site-packages (from httpx>=0.22.0->biothings-client>=0.2.6->mygene->Bio) (3.7)\n",
      "Requirement already satisfied: h11>=0.16 in c:\\users\\celia\\anaconda3\\lib\\site-packages (from httpcore==1.*->httpx>=0.22.0->biothings-client>=0.2.6->mygene->Bio) (0.16.0)\n",
      "Requirement already satisfied: sniffio>=1.1 in c:\\users\\celia\\anaconda3\\lib\\site-packages (from anyio->httpx>=0.22.0->biothings-client>=0.2.6->mygene->Bio) (1.3.0)\n",
      "Requirement already satisfied: python-dateutil>=2.8.2 in c:\\users\\celia\\anaconda3\\lib\\site-packages (from pandas->Bio) (2.9.0.post0)\n",
      "Requirement already satisfied: pytz>=2020.1 in c:\\users\\celia\\anaconda3\\lib\\site-packages (from pandas->Bio) (2024.1)\n",
      "Requirement already satisfied: tzdata>=2022.7 in c:\\users\\celia\\anaconda3\\lib\\site-packages (from pandas->Bio) (2025.2)\n",
      "Requirement already satisfied: six>=1.5 in c:\\users\\celia\\anaconda3\\lib\\site-packages (from python-dateutil>=2.8.2->pandas->Bio) (1.17.0)\n",
      "Requirement already satisfied: platformdirs>=2.5.0 in c:\\users\\celia\\anaconda3\\lib\\site-packages (from pooch->Bio) (4.3.7)\n",
      "Requirement already satisfied: packaging>=20.0 in c:\\users\\celia\\anaconda3\\lib\\site-packages (from pooch->Bio) (24.2)\n",
      "Requirement already satisfied: charset-normalizer<4,>=2 in c:\\users\\celia\\anaconda3\\lib\\site-packages (from requests->Bio) (3.3.2)\n",
      "Requirement already satisfied: urllib3<3,>=1.21.1 in c:\\users\\celia\\anaconda3\\lib\\site-packages (from requests->Bio) (2.3.0)\n",
      "Requirement already satisfied: colorama in c:\\users\\celia\\anaconda3\\lib\\site-packages (from tqdm->Bio) (0.4.6)\n"
     ]
    }
   ],
   "source": [
    " !pip install Bio"
   ]
  },
  {
   "cell_type": "code",
   "execution_count": 2,
   "id": "d42fe91c-3271-46a0-9d27-1de07845b94b",
   "metadata": {
    "collapsed": true,
    "jupyter": {
     "outputs_hidden": true
    },
    "scrolled": true
   },
   "outputs": [
    {
     "name": "stdout",
     "output_type": "stream",
     "text": [
      "Requirement already satisfied: ipywidgets in c:\\users\\celia\\anaconda3\\lib\\site-packages (8.1.7)Note: you may need to restart the kernel to use updated packages.\n",
      "\n",
      "Requirement already satisfied: jupyterlab_widgets in c:\\users\\celia\\anaconda3\\lib\\site-packages (3.0.15)\n",
      "Requirement already satisfied: comm>=0.1.3 in c:\\users\\celia\\anaconda3\\lib\\site-packages (from ipywidgets) (0.2.1)\n",
      "Requirement already satisfied: ipython>=6.1.0 in c:\\users\\celia\\anaconda3\\lib\\site-packages (from ipywidgets) (8.30.0)\n",
      "Requirement already satisfied: traitlets>=4.3.1 in c:\\users\\celia\\anaconda3\\lib\\site-packages (from ipywidgets) (5.14.3)\n",
      "Requirement already satisfied: widgetsnbextension~=4.0.14 in c:\\users\\celia\\anaconda3\\lib\\site-packages (from ipywidgets) (4.0.14)\n",
      "Requirement already satisfied: decorator in c:\\users\\celia\\anaconda3\\lib\\site-packages (from ipython>=6.1.0->ipywidgets) (5.1.1)\n",
      "Requirement already satisfied: jedi>=0.16 in c:\\users\\celia\\anaconda3\\lib\\site-packages (from ipython>=6.1.0->ipywidgets) (0.19.2)\n",
      "Requirement already satisfied: matplotlib-inline in c:\\users\\celia\\anaconda3\\lib\\site-packages (from ipython>=6.1.0->ipywidgets) (0.1.6)\n",
      "Requirement already satisfied: prompt-toolkit<3.1.0,>=3.0.41 in c:\\users\\celia\\anaconda3\\lib\\site-packages (from ipython>=6.1.0->ipywidgets) (3.0.43)\n",
      "Requirement already satisfied: pygments>=2.4.0 in c:\\users\\celia\\anaconda3\\lib\\site-packages (from ipython>=6.1.0->ipywidgets) (2.19.1)\n",
      "Requirement already satisfied: stack-data in c:\\users\\celia\\anaconda3\\lib\\site-packages (from ipython>=6.1.0->ipywidgets) (0.2.0)\n",
      "Requirement already satisfied: colorama in c:\\users\\celia\\anaconda3\\lib\\site-packages (from ipython>=6.1.0->ipywidgets) (0.4.6)\n",
      "Requirement already satisfied: wcwidth in c:\\users\\celia\\anaconda3\\lib\\site-packages (from prompt-toolkit<3.1.0,>=3.0.41->ipython>=6.1.0->ipywidgets) (0.2.5)\n",
      "Requirement already satisfied: parso<0.9.0,>=0.8.4 in c:\\users\\celia\\anaconda3\\lib\\site-packages (from jedi>=0.16->ipython>=6.1.0->ipywidgets) (0.8.4)\n",
      "Requirement already satisfied: executing in c:\\users\\celia\\anaconda3\\lib\\site-packages (from stack-data->ipython>=6.1.0->ipywidgets) (0.8.3)\n",
      "Requirement already satisfied: asttokens in c:\\users\\celia\\anaconda3\\lib\\site-packages (from stack-data->ipython>=6.1.0->ipywidgets) (3.0.0)\n",
      "Requirement already satisfied: pure-eval in c:\\users\\celia\\anaconda3\\lib\\site-packages (from stack-data->ipython>=6.1.0->ipywidgets) (0.2.2)\n"
     ]
    }
   ],
   "source": [
    "pip install --upgrade ipywidgets jupyterlab_widgets"
   ]
  },
  {
   "cell_type": "code",
   "execution_count": 4,
   "id": "c6334464-2c2d-4f28-b38c-6eaf2eeda37e",
   "metadata": {},
   "outputs": [],
   "source": [
    "import importlib, Projet_Celia_TRANZEAT as projet"
   ]
  },
  {
   "cell_type": "code",
   "execution_count": 5,
   "id": "8ffa1b0d-a784-4b21-8a50-e35c5ffb5bb6",
   "metadata": {},
   "outputs": [
    {
     "name": "stderr",
     "output_type": "stream",
     "text": [
      "test_valid_id (Projet_Celia_TRANZEAT.TestFetchUniprotRecord.test_valid_id) ... ok\n",
      "test_field_types (Projet_Celia_TRANZEAT.TestGetProteinDictInfo.test_field_types)\n",
      "Vérifie le type de chaque valeur du dictionnaire ... ok\n",
      "test_keys_presence (Projet_Celia_TRANZEAT.TestGetProteinDictInfo.test_keys_presence)\n",
      "Vérifie que toutes les clés attendues sont présentes dans le dictionnaire. ... ok\n",
      "test_sequence_length (Projet_Celia_TRANZEAT.TestGetProteinDictInfo.test_sequence_length)\n",
      "Vérifie que la longueur indiquée correspond bien à la longueur réelle de la séquence. ... ok\n",
      "test_values_match_record (Projet_Celia_TRANZEAT.TestGetProteinDictInfo.test_values_match_record)\n",
      "Vérifie que certaines valeurs du dictionnaire correspondent au record source. ... ok\n",
      "test_keys_are_amino_acids (Projet_Celia_TRANZEAT.TestGetAAComposition.test_keys_are_amino_acids)\n",
      "Vérifie que chaque clé est une lettre d’acide aminé. ... C:\\Users\\celia\\anaconda3\\Lib\\site-packages\\Bio\\SeqUtils\\ProtParam.py:106: BiopythonDeprecationWarning: The get_amino_acids_percent method has been deprecated and will likely be removed from Biopython in the near future. Please use the amino_acids_percent attribute instead.\n",
      "  warnings.warn(\n",
      "ok\n",
      "test_return_type (Projet_Celia_TRANZEAT.TestGetAAComposition.test_return_type)\n",
      "Vérifie que le résultat est un dictionnaire. ... ok\n",
      "test_values_are_floats_between_0_and_1 (Projet_Celia_TRANZEAT.TestGetAAComposition.test_values_are_floats_between_0_and_1)\n",
      "Vérifie que chaque valeur est un flottant compris entre 0 et 1. ... ok\n",
      "test_length (Projet_Celia_TRANZEAT.TestGetHydrophobicity.test_length)\n",
      "Vérifie que la longueur correspond à la séquence moins la fenêtre + 1. ... ok\n",
      "test_return_type (Projet_Celia_TRANZEAT.TestGetHydrophobicity.test_return_type)\n",
      "Vérifie que le résultat est une liste. ... ok\n",
      "test_ph_charge (Projet_Celia_TRANZEAT.TestPHCharge.test_ph_charge) ... ok\n",
      "test_motif_structure (Projet_Celia_TRANZEAT.TestFindNGlycoMotif.test_motif_structure)\n",
      "Vérifie que chaque triplet détecté correspond au motif N-X-[S/T]. ... ok\n",
      "test_return_type (Projet_Celia_TRANZEAT.TestFindNGlycoMotif.test_return_type)\n",
      "Vérifie que le résultat est une liste d’entiers. ... ok\n",
      "\n",
      "----------------------------------------------------------------------\n",
      "Ran 13 tests in 0.064s\n",
      "\n",
      "OK\n"
     ]
    }
   ],
   "source": [
    "projet.run_tests()"
   ]
  },
  {
   "cell_type": "code",
   "execution_count": null,
   "id": "c1bb6ade-9e65-44be-b462-165fbb2647de",
   "metadata": {},
   "outputs": [],
   "source": [
    "### INTERFACE GRAPHIQUE: ######"
   ]
  },
  {
   "cell_type": "code",
   "execution_count": 6,
   "id": "19325a9a-f854-4375-a604-a1d4c632bc7a",
   "metadata": {},
   "outputs": [
    {
     "data": {
      "text/html": [
       "\n",
       "<h1 style='text-align:center; color:#FF1493; font-weight:bold; margin-bottom:0;'>Projet d’analyse de protéine</h1>\n",
       "<h3 style='text-align:center; color:#FFB6C1; font-weight:normal; margin-top:5px;'>Projet Python – GB4</h3>\n",
       "<hr style='border:1px solid #FFB6C1; margin-top:10px; margin-bottom:10px;'>\n",
       "<div style='position:fixed; bottom:10px; width:100%; text-align:center; color:#FFB6C1; font-size:14px;'>\n",
       "</div>\n"
      ],
      "text/plain": [
       "<IPython.core.display.HTML object>"
      ]
     },
     "metadata": {},
     "output_type": "display_data"
    },
    {
     "data": {
      "application/vnd.jupyter.widget-view+json": {
       "model_id": "b85cd76256964e19bdd8cc7dea26c4b9",
       "version_major": 2,
       "version_minor": 0
      },
      "text/plain": [
       "Text(value='', description='Prénom:', placeholder='Entrez votre prénom')"
      ]
     },
     "metadata": {},
     "output_type": "display_data"
    },
    {
     "data": {
      "application/vnd.jupyter.widget-view+json": {
       "model_id": "2a6bbaec5ff3423cbf67cd7d28274ceb",
       "version_major": 2,
       "version_minor": 0
      },
      "text/plain": [
       "Button(description='Générer la citation', layout=Layout(height='50px', margin='10px', width='200px'), style=Bu…"
      ]
     },
     "metadata": {},
     "output_type": "display_data"
    },
    {
     "data": {
      "application/vnd.jupyter.widget-view+json": {
       "model_id": "1ca4a903b74f4b76a7994f6693f9076f",
       "version_major": 2,
       "version_minor": 0
      },
      "text/plain": [
       "Output()"
      ]
     },
     "metadata": {},
     "output_type": "display_data"
    },
    {
     "data": {
      "application/vnd.jupyter.widget-view+json": {
       "model_id": "64564cb39310479f9ef0adb4f65d90b2",
       "version_major": 2,
       "version_minor": 0
      },
      "text/plain": [
       "HBox(children=(Box(children=(Button(description='Infos générales', layout=Layout(width='auto'), style=ButtonSt…"
      ]
     },
     "metadata": {},
     "output_type": "display_data"
    },
    {
     "data": {
      "application/vnd.jupyter.widget-view+json": {
       "model_id": "625c9974953a4ac1911a0ec650cb4523",
       "version_major": 2,
       "version_minor": 0
      },
      "text/plain": [
       "Text(value='P69905', description='UniProt ID:')"
      ]
     },
     "metadata": {},
     "output_type": "display_data"
    },
    {
     "data": {
      "application/vnd.jupyter.widget-view+json": {
       "model_id": "50a438937f2849fab694f6eb06ba8ff5",
       "version_major": 2,
       "version_minor": 0
      },
      "text/plain": [
       "Button(description='Charger', layout=Layout(height='50px', margin='10px', width='200px'), style=ButtonStyle(bu…"
      ]
     },
     "metadata": {},
     "output_type": "display_data"
    },
    {
     "data": {
      "application/vnd.jupyter.widget-view+json": {
       "model_id": "7c83709a17614cb18f91b6ec1bedf03d",
       "version_major": 2,
       "version_minor": 0
      },
      "text/plain": [
       "ColorPicker(value='blue', description='Couleur trait:', layout=Layout(display='none'))"
      ]
     },
     "metadata": {},
     "output_type": "display_data"
    },
    {
     "data": {
      "application/vnd.jupyter.widget-view+json": {
       "model_id": "7d7bb4be189a48838def6cb0695dfb3d",
       "version_major": 2,
       "version_minor": 0
      },
      "text/plain": [
       "FloatSlider(value=1.5, description='Épaisseur:', layout=Layout(display='none'), max=5.0, min=0.1)"
      ]
     },
     "metadata": {},
     "output_type": "display_data"
    },
    {
     "data": {
      "application/vnd.jupyter.widget-view+json": {
       "model_id": "6733e42e8c4145e3905305f5f243255c",
       "version_major": 2,
       "version_minor": 0
      },
      "text/plain": [
       "Output()"
      ]
     },
     "metadata": {},
     "output_type": "display_data"
    }
   ],
   "source": [
    "###########################################################################################\n",
    "#CITATION INTRODUCTIVE\n",
    "###########################################################################################\n",
    "\n",
    "import ipywidgets as widgets\n",
    "from ipywidgets import Output, Layout, Button, Box\n",
    "import matplotlib.pyplot as plt\n",
    "from IPython.display import display, clear_output, HTML \n",
    "\n",
    "sortie = Output()\n",
    "\n",
    "\n",
    "prenom = widgets.Text(\n",
    "    value='',\n",
    "    placeholder='Entrez votre prénom',\n",
    "    description='Prénom:',\n",
    "    disabled=False\n",
    ")\n",
    "\n",
    "\n",
    "def generer_citation(b):\n",
    "    with sortie:\n",
    "        sortie.clear_output()\n",
    "        nom = prenom.value.strip() or \"Ami·e\"\n",
    "        texte = f'{nom}, écris-moi l’identifiant UniProt qui t’intéresse et sélectionne ce que tu veux savoir dessus'\n",
    "        display(HTML(f\"\"\"\n",
    "        <div style=\"background-color:#FF69B4; padding:15px; border-radius:10px; text-align:center; margin-top:10px;\">\n",
    "            <h2 style=\"color:white; font-weight:600; margin:0;\">{texte}</h2>\n",
    "        </div>\n",
    "        \"\"\"))\n",
    "\n",
    "###########################################################################################\n",
    "#  Interface PRINCIPALE d’analyse de protéine\n",
    "###########################################################################################\n",
    "\n",
    "%load_ext autoreload\n",
    "%autoreload 2\n",
    "%matplotlib inline\n",
    "\n",
    "\n",
    "id_input = widgets.Text(description=\"UniProt ID:\", value=\"P69905\")\n",
    "\n",
    "\n",
    "CHOICES = [\"Infos générales\", \"Composition AA\", \"Hydrophobicité\", \"Charge vs pH\", \"Motifs N-glyco\"]\n",
    "items_layout = Layout(width='auto')\n",
    "box_layout = Layout(display='flex', flex_flow='column', align_items='stretch', border='solid', width='25%')\n",
    "FUCHSIA = \"#FF1493\"\n",
    "\n",
    "selected_choice = widgets.Label(value=CHOICES[0])\n",
    "\n",
    "def make_choice_button(label):\n",
    "    btn = Button(description=label, layout=items_layout)\n",
    "    btn.style.button_color = \"#FFB6C1\"   \n",
    "    btn.style.font_weight = \"bold\"\n",
    "    btn.style.font_size = \"14px\"\n",
    "    btn.style.text_color = \"#FF1493\"   \n",
    "    return btn\n",
    "\n",
    "choice_buttons = [make_choice_button(lbl) for lbl in CHOICES]\n",
    "choice_box = Box(children=choice_buttons, layout=box_layout)\n",
    "\n",
    "\n",
    "line_color = widgets.ColorPicker(value=\"blue\", description=\"Couleur trait:\")\n",
    "line_width = widgets.FloatSlider(value=1.5, min=0.1, max=5.0, step=0.1, description=\"Épaisseur:\")\n",
    "line_color.layout.display = \"none\"\n",
    "line_width.layout.display = \"none\"\n",
    "\n",
    "\n",
    "output = widgets.Output()\n",
    "\n",
    "\n",
    "def on_choice_clicked(b):\n",
    "    selected_choice.value = b.description\n",
    "    show = selected_choice.value in [\"Hydrophobicité\", \"Charge vs pH\", \"Composition AA\"]\n",
    "    line_color.layout.display = \"\" if show else \"none\"\n",
    "    line_width.layout.display = \"\" if show else \"none\"\n",
    "\n",
    "for btn in choice_buttons:\n",
    "    btn.on_click(on_choice_clicked)\n",
    "\n",
    "def on_load_clicked(b):\n",
    "     with output:\n",
    "        clear_output()\n",
    "        protein_id = id_input.value.strip()\n",
    "         \n",
    "        if not protein_id:\n",
    "            display(HTML(\"<div style='color:#FF1493; font-weight:bold;'>Erreur: Rentre un identifiant Uniprot</div>\"))\n",
    "            return\n",
    "\n",
    "        try:\n",
    "            record = projet.fetch_uniprot_record(protein_id)\n",
    "        except Exception:\n",
    "            display(HTML(\"<div style='color:#FF1493; font-weight:bold;'>Erreur: Rentre un identifiant Uniprot</div>\"))\n",
    "            return\n",
    "            \n",
    "        if not record:\n",
    "            display(HTML(\"<div style='color:#FF1493; font-weight:bold;'>Erreur: Rentre un identifiant Uniprot</div>\"))\n",
    "            return\n",
    "        \n",
    "        choice = selected_choice.value\n",
    "\n",
    "        if choice == \"Infos générales\":\n",
    "            info = projet.get_protein_dictinfo(record)\n",
    "            html = \"<h3>Informations générales sur la protéine</h3><ul>\"\n",
    "            for key, value in info.items():\n",
    "                html += f\"<li><b>{key} :</b> {value}</li>\"\n",
    "            html += \"</ul>\"\n",
    "            display(HTML(html))\n",
    "\n",
    "        elif choice == \"Composition AA\":\n",
    "            comp = projet.get_aa_composition(record)\n",
    "            names = list(comp.keys())\n",
    "            values = [v * 100 for v in comp.values()]\n",
    "            plt.figure(figsize=(10,5))\n",
    "            plt.bar(names, values, color=line_color.value, edgecolor=\"black\", linewidth=line_width.value)\n",
    "            plt.title(\"Composition en acides aminés\")\n",
    "            plt.xlabel(\"Acides aminés\")\n",
    "            plt.ylabel(\"Pourcentage (%)\")\n",
    "            plt.show()\n",
    "\n",
    "        elif choice == \"Hydrophobicité\":\n",
    "            hydro = projet.get_hydrophobicity(record)\n",
    "            x = range(1, len(hydro)+1)\n",
    "            plt.figure(figsize=(8,5))\n",
    "            plt.plot(x, hydro, color=line_color.value, linewidth=line_width.value)\n",
    "            plt.xlabel(\"Position des acides aminés\")\n",
    "            plt.ylabel(\"Score d'hydrophobicité\")\n",
    "            plt.title(\"Profil d'hydrophobicité\")\n",
    "            plt.grid(True)\n",
    "            plt.show()\n",
    "\n",
    "        elif choice == \"Charge vs pH\":\n",
    "            pH, charge = projet.ph_charge(record)\n",
    "            plt.figure(figsize=(8,5))\n",
    "            plt.plot(pH, charge, color=line_color.value, linewidth=line_width.value)\n",
    "            plt.xlabel(\"pH\")\n",
    "            plt.ylabel(\"Charge nette\")\n",
    "            plt.title(\"Charge nette en fonction du pH\")\n",
    "            plt.grid(True)\n",
    "            plt.show()\n",
    "\n",
    "        elif choice == \"Motifs N-glyco\":\n",
    "            motifs = projet.find_nglyco_motif(record)\n",
    "            if motifs:\n",
    "                items = \"\".join(f\"<li>Position <b>{p}</b></li>\" for p in motifs)\n",
    "                html = f\"\"\"\n",
    "                <h3>Motifs N-glycosylation détectés</h3>\n",
    "                <p><b>Total :</b> {len(motifs)}</p>\n",
    "                <ul>{items}</ul>\n",
    "                \"\"\"\n",
    "            else:\n",
    "                html = \"\"\"\n",
    "                <h3>Motifs N-glycosylation détectés</h3>\n",
    "                <p>Aucun motif <code>N-X-[S/T]</code> (avec X ≠ P) n’a été trouvé.</p>\n",
    "                \"\"\"\n",
    "            display(HTML(html))\n",
    "\n",
    "###########################################################################################\n",
    "# Déclaration de tous les boutons  \n",
    "###########################################################################################\n",
    "\n",
    "# Bouton de citation\n",
    "citation_button = widgets.Button(\n",
    "    description=\"Générer la citation\",\n",
    "    style={'button_color': 'lightgreen', 'text_color': 'magenta', 'font_weight': 'bold', 'font_style': 'italic'},\n",
    "    layout={'width': '200px', 'height': '50px', 'margin': '10px'}\n",
    ")\n",
    "citation_button.on_click(generer_citation)\n",
    "\n",
    "# Bouton de chargement\n",
    "load_button = widgets.Button(\n",
    "    description=\"Charger\",\n",
    "    style={'button_color': 'lightgreen', 'text_color': 'magenta', 'font_weight': 'bold', 'font_style': 'italic'},\n",
    "    layout={'width': '200px', 'height': '50px', 'margin': '10px'}\n",
    ")\n",
    "load_button.on_click(on_load_clicked)\n",
    "\n",
    "###########################################################################################\n",
    "# AFFICHAGE GLOBAL\n",
    "###########################################################################################\n",
    "display(HTML(\"\"\"\n",
    "<h1 style='text-align:center; color:#FF1493; font-weight:bold; margin-bottom:0;'>Projet d’analyse de protéine</h1>\n",
    "<h3 style='text-align:center; color:#FFB6C1; font-weight:normal; margin-top:5px;'>Projet Python – GB4</h3>\n",
    "<hr style='border:1px solid #FFB6C1; margin-top:10px; margin-bottom:10px;'>\n",
    "<div style='position:fixed; bottom:10px; width:100%; text-align:center; color:#FFB6C1; font-size:14px;'>\n",
    "</div>\n",
    "\"\"\"))\n",
    "\n",
    "display(prenom, citation_button, sortie)  \n",
    "display(widgets.HBox([choice_box, widgets.VBox([widgets.Label(\"Choix sélectionné :\"), selected_choice])]))\n",
    "display(id_input, load_button, line_color, line_width, output)"
   ]
  },
  {
   "cell_type": "code",
   "execution_count": null,
   "id": "96f0e0df-c372-4938-88d5-5c399436cb9c",
   "metadata": {},
   "outputs": [],
   "source": [
    "#P29681\n",
    "#Q0KHU2"
   ]
  }
 ],
 "metadata": {
  "kernelspec": {
   "display_name": "Python 3 (ipykernel)",
   "language": "python",
   "name": "python3"
  },
  "language_info": {
   "codemirror_mode": {
    "name": "ipython",
    "version": 3
   },
   "file_extension": ".py",
   "mimetype": "text/x-python",
   "name": "python",
   "nbconvert_exporter": "python",
   "pygments_lexer": "ipython3",
   "version": "3.13.5"
  }
 },
 "nbformat": 4,
 "nbformat_minor": 5
}
